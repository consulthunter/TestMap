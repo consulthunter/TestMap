{
 "cells": [
  {
   "metadata": {},
   "cell_type": "markdown",
   "source": [
    "# Merge Evaluation Dataset\n",
    "\n",
    "I made a mistake when creating the datasets for finetuning.\n",
    "\n",
    "I made the instructions, prompts, responses part of their own datasets.\n",
    "\n",
    "I should have instead made them new columns as part of a copy of the original.\n",
    "\n",
    "So, I need to merge the evaluation results to the original dataset. Apologies.\n",
    "\n",
    "I will fix this later."
   ],
   "id": "953afdfd1b7399ce"
  },
  {
   "cell_type": "code",
   "id": "initial_id",
   "metadata": {
    "collapsed": true,
    "ExecuteTime": {
     "end_time": "2024-10-26T18:36:37.242468Z",
     "start_time": "2024-10-26T18:36:37.239037Z"
    }
   },
   "source": [
    "import re\n",
    "import ast\n",
    "from datasets import load_dataset"
   ],
   "outputs": [],
   "execution_count": 41
  },
  {
   "metadata": {
    "ExecuteTime": {
     "end_time": "2024-10-26T19:03:14.258546Z",
     "start_time": "2024-10-26T19:03:12.567361Z"
    }
   },
   "cell_type": "code",
   "source": [
    "original_class_dataset = load_dataset(\n",
    "    \"Distaste1194/csharp_test_classes_original\",\n",
    "    data_dir=\"data\",\n",
    "    split=\"train\"\n",
    ")\n",
    "\n",
    "class_eval_dataset = load_dataset(\n",
    "    \"Distaste1194/llama-3.1-a100-csharp_test_classes_eval\",\n",
    "    data_dir=\"data\",\n",
    "    split=\"train\"\n",
    ")"
   ],
   "id": "c7b7759bd48b502d",
   "outputs": [],
   "execution_count": 75
  },
  {
   "metadata": {
    "ExecuteTime": {
     "end_time": "2024-10-26T19:03:15.980643Z",
     "start_time": "2024-10-26T19:03:14.392319Z"
    }
   },
   "cell_type": "code",
   "source": [
    "original_method_dataset = load_dataset(\n",
    "    \"Distaste1194/csharp_test_methods_original\",\n",
    "    data_dir=\"data\",\n",
    "    split=\"train\"\n",
    ")\n",
    "\n",
    "method_eval_dataset = load_dataset(\n",
    "    \"Distaste1194/llama-3.1-a100-csharp_test_methods_eval\",\n",
    "    data_dir=\"data\",\n",
    "    split=\"train\"\n",
    ")"
   ],
   "id": "394b1995ae54090a",
   "outputs": [],
   "execution_count": 76
  },
  {
   "metadata": {
    "ExecuteTime": {
     "end_time": "2024-10-26T18:39:53.487421Z",
     "start_time": "2024-10-26T18:39:51.091987Z"
    }
   },
   "cell_type": "code",
   "source": [
    "original_class_df = original_class_dataset.to_pandas()\n",
    "class_eval_df = class_eval_dataset.to_pandas()\n",
    "\n",
    "original_method_df = original_method_dataset.to_pandas()\n",
    "method_eval_df = method_eval_dataset.to_pandas()"
   ],
   "id": "81555857750f977f",
   "outputs": [],
   "execution_count": 46
  },
  {
   "metadata": {},
   "cell_type": "markdown",
   "source": "## Classes",
   "id": "ffe6784192c7af90"
  },
  {
   "metadata": {
    "ExecuteTime": {
     "end_time": "2024-10-26T19:03:17.120844Z",
     "start_time": "2024-10-26T19:03:17.113268Z"
    }
   },
   "cell_type": "code",
   "source": [
    "# Merging based on the 'original_index' column in df1\n",
    "merged_class_df = class_eval_df.merge(original_class_df, how='inner', left_on='Original Index', right_index=True)\n"
   ],
   "id": "7661ceea96ff7ae6",
   "outputs": [],
   "execution_count": 77
  },
  {
   "metadata": {
    "ExecuteTime": {
     "end_time": "2024-10-26T19:03:20.295260Z",
     "start_time": "2024-10-26T19:03:20.290922Z"
    }
   },
   "cell_type": "code",
   "source": "merged_class_df = merged_class_df.drop(columns=['Instructions', 'Original Index', 'Prompt', 'Expected_Response', '__index_level_0__', 'Repo_x', 'ClassBody'])",
   "id": "89e26f593548651c",
   "outputs": [],
   "execution_count": 78
  },
  {
   "metadata": {
    "ExecuteTime": {
     "end_time": "2024-10-26T19:03:22.115716Z",
     "start_time": "2024-10-26T19:03:22.092340Z"
    }
   },
   "cell_type": "code",
   "source": [
    "# Define a function to format and return the result\n",
    "def extract_gen_test_class(row):\n",
    "    class_body = row['Generated_Response'][0].split(\"<|im_end|>\\n<|im_start|>assistant:\")[-1].split(\"<|im_end|>\")[0]\n",
    "    formatted = class_body.replace(\"```\", \"\")\n",
    "    result = re.sub(r'^Here is the .*\\n?', '', formatted, flags=re.MULTILINE)\n",
    "    return result\n",
    "\n",
    "# Using apply with the custom function to create a new column\n",
    "merged_class_df['ClassBody'] = merged_class_df.apply(extract_gen_test_class, axis=1)"
   ],
   "id": "24d951ccf82fb16e",
   "outputs": [],
   "execution_count": 79
  },
  {
   "metadata": {},
   "cell_type": "markdown",
   "source": "## Methods",
   "id": "632484c50cf3ed1f"
  },
  {
   "metadata": {
    "ExecuteTime": {
     "end_time": "2024-10-26T19:03:23.858950Z",
     "start_time": "2024-10-26T19:03:23.852605Z"
    }
   },
   "cell_type": "code",
   "source": [
    "def create_method_question(row):\n",
    "    method_invocations = ast.literal_eval(row['MethodInvocations'])\n",
    "    # Joining method and description, discarding if description is missing\n",
    "    source_code = '\\n'.join(\n",
    "        f\"Method: {method}\\nDefinition: {description}\"\n",
    "        for method, description in method_invocations\n",
    "        if description  # This checks if description is not None and not an empty string\n",
    "    )\n",
    "    \n",
    "    # Check if source_code is empty or consists of blank lines\n",
    "    if not source_code.strip():  # strip() removes whitespace\n",
    "        return None\n",
    "    \n",
    "    class_fields = '\\n'.join(ast.literal_eval(row['ClassFields']))\n",
    "    using_statements = '\\n'.join(ast.literal_eval(row['UsingStatements']))\n",
    "    question = f\"\"\"\n",
    "\n",
    "Here is some contextual information:\n",
    "Source Code and definitions (if any):\n",
    "{source_code}\n",
    "\n",
    "Test Namespace: {row['Namespace']}\n",
    "\n",
    "Test Class Declaration: {row['ClassDeclaration']}\n",
    "\n",
    "Test Class Fields: \n",
    "{class_fields}\n",
    "\n",
    "Test Using Statements: \n",
    "{using_statements}\n",
    "\n",
    "Test Framework: {row['TestFramework']}\n",
    "\n",
    "Language Framework: {row['LanguageFramework']}\n",
    "\n",
    "Please delimit the code with ```\n",
    "    \"\"\"\n",
    "    return question"
   ],
   "id": "b8ab9c7e4eaf0adf",
   "outputs": [],
   "execution_count": 80
  },
  {
   "metadata": {
    "ExecuteTime": {
     "end_time": "2024-10-26T19:04:11.708353Z",
     "start_time": "2024-10-26T19:03:27.224849Z"
    }
   },
   "cell_type": "code",
   "source": "original_method_df['question'] = original_method_df.apply(create_method_question, axis=1)\n",
   "id": "b24564f7b5e9bee2",
   "outputs": [],
   "execution_count": 81
  },
  {
   "metadata": {
    "ExecuteTime": {
     "end_time": "2024-10-26T19:06:57.542245Z",
     "start_time": "2024-10-26T19:06:57.191496Z"
    }
   },
   "cell_type": "code",
   "source": [
    "# Removing rows where 'question' is None\n",
    "original_method_df = original_method_df.dropna(subset=['question'])\n",
    "original_method_df = original_method_df.reset_index(drop=True)\n",
    "original_method_df = original_method_df.drop(columns=['question'])"
   ],
   "id": "5ea4de550dd3f7d8",
   "outputs": [],
   "execution_count": 90
  },
  {
   "metadata": {
    "ExecuteTime": {
     "end_time": "2024-10-26T19:07:03.228188Z",
     "start_time": "2024-10-26T19:07:03.220244Z"
    }
   },
   "cell_type": "code",
   "source": [
    "# Merging based on the 'original_index' column in df1\n",
    "merged_method_df = method_eval_df.merge(original_method_df, how='inner', left_on='Original Index', right_index=True)\n"
   ],
   "id": "377552b593140973",
   "outputs": [],
   "execution_count": 91
  },
  {
   "metadata": {
    "ExecuteTime": {
     "end_time": "2024-10-26T19:07:05.224982Z",
     "start_time": "2024-10-26T19:07:05.219255Z"
    }
   },
   "cell_type": "code",
   "source": "merged_method_df = merged_method_df.drop(columns=['Instructions', 'Original Index', 'Prompt', '__index_level_0__', 'Repo_x', 'MethodBody', 'Expected_Response'])",
   "id": "1dd07d93d725c553",
   "outputs": [],
   "execution_count": 92
  },
  {
   "metadata": {
    "ExecuteTime": {
     "end_time": "2024-10-26T19:07:10.366955Z",
     "start_time": "2024-10-26T19:07:10.354498Z"
    }
   },
   "cell_type": "code",
   "source": [
    "# Define a function to format and return the result\n",
    "def extract_gen_test_method(row):\n",
    "    method_body = row['Generated_Response'][0].split(\"<|im_start|>\", 1)[-1]\n",
    "    formatted = method_body.split(\"<|im_start|>\", 1)[-1].split(\"<|im_end|>\")[0]\n",
    "    formatted = formatted.replace(\"```\", \"\")\n",
    "    return formatted\n",
    "\n",
    "# Using apply with the custom function to create a new column\n",
    "merged_method_df['MethodBody'] = merged_method_df.apply(extract_gen_test_method, axis=1)"
   ],
   "id": "a40429bc34465db8",
   "outputs": [],
   "execution_count": 93
  },
  {
   "metadata": {
    "ExecuteTime": {
     "end_time": "2024-10-26T19:07:15.960121Z",
     "start_time": "2024-10-26T19:07:15.915764Z"
    }
   },
   "cell_type": "code",
   "source": [
    "merged_class_df = merged_class_df.drop(columns=['Generated_Response'])\n",
    "merged_method_df = merged_method_df.drop(columns=['Generated_Response'])"
   ],
   "id": "a9eee901922cd79f",
   "outputs": [
    {
     "ename": "KeyError",
     "evalue": "\"['Generated_Response'] not found in axis\"",
     "output_type": "error",
     "traceback": [
      "\u001B[1;31m---------------------------------------------------------------------------\u001B[0m",
      "\u001B[1;31mKeyError\u001B[0m                                  Traceback (most recent call last)",
      "Cell \u001B[1;32mIn[94], line 1\u001B[0m\n\u001B[1;32m----> 1\u001B[0m merged_class_df \u001B[38;5;241m=\u001B[39m \u001B[43mmerged_class_df\u001B[49m\u001B[38;5;241;43m.\u001B[39;49m\u001B[43mdrop\u001B[49m\u001B[43m(\u001B[49m\u001B[43mcolumns\u001B[49m\u001B[38;5;241;43m=\u001B[39;49m\u001B[43m[\u001B[49m\u001B[38;5;124;43m'\u001B[39;49m\u001B[38;5;124;43mGenerated_Response\u001B[39;49m\u001B[38;5;124;43m'\u001B[39;49m\u001B[43m]\u001B[49m\u001B[43m)\u001B[49m\n\u001B[0;32m      2\u001B[0m merged_method_df \u001B[38;5;241m=\u001B[39m merged_method_df\u001B[38;5;241m.\u001B[39mdrop(columns\u001B[38;5;241m=\u001B[39m[\u001B[38;5;124m'\u001B[39m\u001B[38;5;124mGenerated_Response\u001B[39m\u001B[38;5;124m'\u001B[39m])\n",
      "File \u001B[1;32mF:\\Projects\\TestMap\\Notebooks\\mergeEval\\.venv\\Lib\\site-packages\\pandas\\core\\frame.py:5581\u001B[0m, in \u001B[0;36mDataFrame.drop\u001B[1;34m(self, labels, axis, index, columns, level, inplace, errors)\u001B[0m\n\u001B[0;32m   5433\u001B[0m \u001B[38;5;28;01mdef\u001B[39;00m \u001B[38;5;21mdrop\u001B[39m(\n\u001B[0;32m   5434\u001B[0m     \u001B[38;5;28mself\u001B[39m,\n\u001B[0;32m   5435\u001B[0m     labels: IndexLabel \u001B[38;5;241m|\u001B[39m \u001B[38;5;28;01mNone\u001B[39;00m \u001B[38;5;241m=\u001B[39m \u001B[38;5;28;01mNone\u001B[39;00m,\n\u001B[1;32m   (...)\u001B[0m\n\u001B[0;32m   5442\u001B[0m     errors: IgnoreRaise \u001B[38;5;241m=\u001B[39m \u001B[38;5;124m\"\u001B[39m\u001B[38;5;124mraise\u001B[39m\u001B[38;5;124m\"\u001B[39m,\n\u001B[0;32m   5443\u001B[0m ) \u001B[38;5;241m-\u001B[39m\u001B[38;5;241m>\u001B[39m DataFrame \u001B[38;5;241m|\u001B[39m \u001B[38;5;28;01mNone\u001B[39;00m:\n\u001B[0;32m   5444\u001B[0m \u001B[38;5;250m    \u001B[39m\u001B[38;5;124;03m\"\"\"\u001B[39;00m\n\u001B[0;32m   5445\u001B[0m \u001B[38;5;124;03m    Drop specified labels from rows or columns.\u001B[39;00m\n\u001B[0;32m   5446\u001B[0m \n\u001B[1;32m   (...)\u001B[0m\n\u001B[0;32m   5579\u001B[0m \u001B[38;5;124;03m            weight  1.0     0.8\u001B[39;00m\n\u001B[0;32m   5580\u001B[0m \u001B[38;5;124;03m    \"\"\"\u001B[39;00m\n\u001B[1;32m-> 5581\u001B[0m     \u001B[38;5;28;01mreturn\u001B[39;00m \u001B[38;5;28;43msuper\u001B[39;49m\u001B[43m(\u001B[49m\u001B[43m)\u001B[49m\u001B[38;5;241;43m.\u001B[39;49m\u001B[43mdrop\u001B[49m\u001B[43m(\u001B[49m\n\u001B[0;32m   5582\u001B[0m \u001B[43m        \u001B[49m\u001B[43mlabels\u001B[49m\u001B[38;5;241;43m=\u001B[39;49m\u001B[43mlabels\u001B[49m\u001B[43m,\u001B[49m\n\u001B[0;32m   5583\u001B[0m \u001B[43m        \u001B[49m\u001B[43maxis\u001B[49m\u001B[38;5;241;43m=\u001B[39;49m\u001B[43maxis\u001B[49m\u001B[43m,\u001B[49m\n\u001B[0;32m   5584\u001B[0m \u001B[43m        \u001B[49m\u001B[43mindex\u001B[49m\u001B[38;5;241;43m=\u001B[39;49m\u001B[43mindex\u001B[49m\u001B[43m,\u001B[49m\n\u001B[0;32m   5585\u001B[0m \u001B[43m        \u001B[49m\u001B[43mcolumns\u001B[49m\u001B[38;5;241;43m=\u001B[39;49m\u001B[43mcolumns\u001B[49m\u001B[43m,\u001B[49m\n\u001B[0;32m   5586\u001B[0m \u001B[43m        \u001B[49m\u001B[43mlevel\u001B[49m\u001B[38;5;241;43m=\u001B[39;49m\u001B[43mlevel\u001B[49m\u001B[43m,\u001B[49m\n\u001B[0;32m   5587\u001B[0m \u001B[43m        \u001B[49m\u001B[43minplace\u001B[49m\u001B[38;5;241;43m=\u001B[39;49m\u001B[43minplace\u001B[49m\u001B[43m,\u001B[49m\n\u001B[0;32m   5588\u001B[0m \u001B[43m        \u001B[49m\u001B[43merrors\u001B[49m\u001B[38;5;241;43m=\u001B[39;49m\u001B[43merrors\u001B[49m\u001B[43m,\u001B[49m\n\u001B[0;32m   5589\u001B[0m \u001B[43m    \u001B[49m\u001B[43m)\u001B[49m\n",
      "File \u001B[1;32mF:\\Projects\\TestMap\\Notebooks\\mergeEval\\.venv\\Lib\\site-packages\\pandas\\core\\generic.py:4788\u001B[0m, in \u001B[0;36mNDFrame.drop\u001B[1;34m(self, labels, axis, index, columns, level, inplace, errors)\u001B[0m\n\u001B[0;32m   4786\u001B[0m \u001B[38;5;28;01mfor\u001B[39;00m axis, labels \u001B[38;5;129;01min\u001B[39;00m axes\u001B[38;5;241m.\u001B[39mitems():\n\u001B[0;32m   4787\u001B[0m     \u001B[38;5;28;01mif\u001B[39;00m labels \u001B[38;5;129;01mis\u001B[39;00m \u001B[38;5;129;01mnot\u001B[39;00m \u001B[38;5;28;01mNone\u001B[39;00m:\n\u001B[1;32m-> 4788\u001B[0m         obj \u001B[38;5;241m=\u001B[39m \u001B[43mobj\u001B[49m\u001B[38;5;241;43m.\u001B[39;49m\u001B[43m_drop_axis\u001B[49m\u001B[43m(\u001B[49m\u001B[43mlabels\u001B[49m\u001B[43m,\u001B[49m\u001B[43m \u001B[49m\u001B[43maxis\u001B[49m\u001B[43m,\u001B[49m\u001B[43m \u001B[49m\u001B[43mlevel\u001B[49m\u001B[38;5;241;43m=\u001B[39;49m\u001B[43mlevel\u001B[49m\u001B[43m,\u001B[49m\u001B[43m \u001B[49m\u001B[43merrors\u001B[49m\u001B[38;5;241;43m=\u001B[39;49m\u001B[43merrors\u001B[49m\u001B[43m)\u001B[49m\n\u001B[0;32m   4790\u001B[0m \u001B[38;5;28;01mif\u001B[39;00m inplace:\n\u001B[0;32m   4791\u001B[0m     \u001B[38;5;28mself\u001B[39m\u001B[38;5;241m.\u001B[39m_update_inplace(obj)\n",
      "File \u001B[1;32mF:\\Projects\\TestMap\\Notebooks\\mergeEval\\.venv\\Lib\\site-packages\\pandas\\core\\generic.py:4830\u001B[0m, in \u001B[0;36mNDFrame._drop_axis\u001B[1;34m(self, labels, axis, level, errors, only_slice)\u001B[0m\n\u001B[0;32m   4828\u001B[0m         new_axis \u001B[38;5;241m=\u001B[39m axis\u001B[38;5;241m.\u001B[39mdrop(labels, level\u001B[38;5;241m=\u001B[39mlevel, errors\u001B[38;5;241m=\u001B[39merrors)\n\u001B[0;32m   4829\u001B[0m     \u001B[38;5;28;01melse\u001B[39;00m:\n\u001B[1;32m-> 4830\u001B[0m         new_axis \u001B[38;5;241m=\u001B[39m \u001B[43maxis\u001B[49m\u001B[38;5;241;43m.\u001B[39;49m\u001B[43mdrop\u001B[49m\u001B[43m(\u001B[49m\u001B[43mlabels\u001B[49m\u001B[43m,\u001B[49m\u001B[43m \u001B[49m\u001B[43merrors\u001B[49m\u001B[38;5;241;43m=\u001B[39;49m\u001B[43merrors\u001B[49m\u001B[43m)\u001B[49m\n\u001B[0;32m   4831\u001B[0m     indexer \u001B[38;5;241m=\u001B[39m axis\u001B[38;5;241m.\u001B[39mget_indexer(new_axis)\n\u001B[0;32m   4833\u001B[0m \u001B[38;5;66;03m# Case for non-unique axis\u001B[39;00m\n\u001B[0;32m   4834\u001B[0m \u001B[38;5;28;01melse\u001B[39;00m:\n",
      "File \u001B[1;32mF:\\Projects\\TestMap\\Notebooks\\mergeEval\\.venv\\Lib\\site-packages\\pandas\\core\\indexes\\base.py:7070\u001B[0m, in \u001B[0;36mIndex.drop\u001B[1;34m(self, labels, errors)\u001B[0m\n\u001B[0;32m   7068\u001B[0m \u001B[38;5;28;01mif\u001B[39;00m mask\u001B[38;5;241m.\u001B[39many():\n\u001B[0;32m   7069\u001B[0m     \u001B[38;5;28;01mif\u001B[39;00m errors \u001B[38;5;241m!=\u001B[39m \u001B[38;5;124m\"\u001B[39m\u001B[38;5;124mignore\u001B[39m\u001B[38;5;124m\"\u001B[39m:\n\u001B[1;32m-> 7070\u001B[0m         \u001B[38;5;28;01mraise\u001B[39;00m \u001B[38;5;167;01mKeyError\u001B[39;00m(\u001B[38;5;124mf\u001B[39m\u001B[38;5;124m\"\u001B[39m\u001B[38;5;132;01m{\u001B[39;00mlabels[mask]\u001B[38;5;241m.\u001B[39mtolist()\u001B[38;5;132;01m}\u001B[39;00m\u001B[38;5;124m not found in axis\u001B[39m\u001B[38;5;124m\"\u001B[39m)\n\u001B[0;32m   7071\u001B[0m     indexer \u001B[38;5;241m=\u001B[39m indexer[\u001B[38;5;241m~\u001B[39mmask]\n\u001B[0;32m   7072\u001B[0m \u001B[38;5;28;01mreturn\u001B[39;00m \u001B[38;5;28mself\u001B[39m\u001B[38;5;241m.\u001B[39mdelete(indexer)\n",
      "\u001B[1;31mKeyError\u001B[0m: \"['Generated_Response'] not found in axis\""
     ]
    }
   ],
   "execution_count": 94
  },
  {
   "metadata": {
    "ExecuteTime": {
     "end_time": "2024-10-26T19:07:18.752014Z",
     "start_time": "2024-10-26T19:07:18.747530Z"
    }
   },
   "cell_type": "code",
   "source": [
    "merged_class_df.rename(columns={'Repo_y': 'Repo'}, inplace=True)\n",
    "merged_method_df.rename(columns={'Repo_y': 'Repo'}, inplace=True)"
   ],
   "id": "3e43353707eebd58",
   "outputs": [],
   "execution_count": 95
  },
  {
   "metadata": {},
   "cell_type": "markdown",
   "source": "## Save",
   "id": "8a8b7d4dc0b63f8f"
  },
  {
   "metadata": {
    "ExecuteTime": {
     "end_time": "2024-10-26T19:05:30.221977Z",
     "start_time": "2024-10-26T19:05:30.098471Z"
    }
   },
   "cell_type": "code",
   "source": [
    "\n",
    "merged_class_df.to_csv(\"merged_class_df.csv\", index=False)\n",
    "merged_method_df.to_csv(\"merged_method_df.csv\", index=False)"
   ],
   "id": "b299118141f8eef9",
   "outputs": [],
   "execution_count": 89
  }
 ],
 "metadata": {
  "kernelspec": {
   "display_name": "Python 3",
   "language": "python",
   "name": "python3"
  },
  "language_info": {
   "codemirror_mode": {
    "name": "ipython",
    "version": 2
   },
   "file_extension": ".py",
   "mimetype": "text/x-python",
   "name": "python",
   "nbconvert_exporter": "python",
   "pygments_lexer": "ipython2",
   "version": "2.7.6"
  }
 },
 "nbformat": 4,
 "nbformat_minor": 5
}
